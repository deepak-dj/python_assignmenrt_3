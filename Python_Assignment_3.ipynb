{
  "nbformat": 4,
  "nbformat_minor": 0,
  "metadata": {
    "colab": {
      "provenance": [],
      "collapsed_sections": []
    },
    "kernelspec": {
      "name": "python3",
      "display_name": "Python 3"
    },
    "language_info": {
      "name": "python"
    }
  },
  "cells": [
    {
      "cell_type": "markdown",
      "source": [
        "# Python Assignment 3"
      ],
      "metadata": {
        "id": "1FE7zmexFdIn"
      }
    },
    {
      "cell_type": "markdown",
      "source": [
        "1. Why are functions advantageous to have in your programs?\n",
        "- **answer** = Functions reduce the need for duplicate code. This makes programs shorter, easier to read, and easier to update\n",
        "---\n",
        "\n",
        "2. When does the code in a function run: when it's specified or when it's called?\n",
        "- **answer** = When it's called.\n",
        "---\n",
        "\n",
        "3. What statement creates a function?\n",
        "- **answer** = function can be created by using a  \"def\" keyword followed by function name and paranthese where we can give some parameters and then collon. example = def function_name():\n",
        "---\n",
        "\n",
        "4. What is the difference between a function and a function call?\n",
        "- **answer** = Function is a piece of code which we can reuse it many times.\n",
        "Function call means when we want to apply or execute a function\n",
        ">= example \n",
        "here \"sum\" is a function which will perform some operation when we call it."
      ],
      "metadata": {
        "id": "460JWCinFiYy"
      }
    },
    {
      "cell_type": "code",
      "source": [
        "def sum():    # function\n",
        "  return 'hello'\n",
        "\n",
        "\n",
        "sum() # functuion call"
      ],
      "metadata": {
        "colab": {
          "base_uri": "https://localhost:8080/",
          "height": 35
        },
        "id": "Pei_-C0vI9Td",
        "outputId": "980b8b27-0956-4394-ddea-2dc55432cda3"
      },
      "execution_count": null,
      "outputs": [
        {
          "output_type": "execute_result",
          "data": {
            "text/plain": [
              "'hello'"
            ],
            "application/vnd.google.colaboratory.intrinsic+json": {
              "type": "string"
            }
          },
          "metadata": {},
          "execution_count": 4
        }
      ]
    },
    {
      "cell_type": "markdown",
      "source": [
        "---\n",
        "5. How many global scopes are there in a Python program? How many local scopes?\n",
        "- answer = There is one global scope, and a local scope is created whenever a function is called.\n",
        "---"
      ],
      "metadata": {
        "id": "0Kgj4QruKZRk"
      }
    },
    {
      "cell_type": "markdown",
      "source": [
        "6. What happens to variables in a local scope when the function call returns?\n",
        "- answer = When a function returns, the local scope is destroyed, and all the variables in it are forgotten.\n",
        "---\n",
        "7. What is the concept of a return value? Is it possible to have a return value in an expression?\n",
        "- answer = A return value is the value that a function call evaluates to. Like any value, a return value can be used as part of an expression.\n",
        "---\n",
        "\n",
        "8. If a function does not have a return statement, what is the return value of a call to that function?\n",
        "- answer = **None**\n",
        "---\n",
        "9. How do you make a function variable refer to the global variable?\n",
        "- answer = by using **global** keyword.\n",
        "---\n",
        "10. What is the data type of None?\n",
        "- data type of None is **None** itself.\n",
        "---\n",
        "11. What does the sentence import areallyourpetsnamederic do?\n",
        "- answer = That import statement imports a module named areallyourpetsnamederic.\n",
        "---\n",
        "\n",
        "12. If you had a bacon() feature in a spam module, what would you call it after importing spam?\n",
        "- answer = **spam.bacon()**\n",
        "---\n",
        "13. What can you do to save a programme from crashing if it encounters an error?\n",
        "- answer = Place the line of code that might cause an error in a **try** block.I can use **except** to handle the error.\n",
        "---\n",
        "14. What is the purpose of the try clause? What is the purpose of the except clause?\n",
        "- The **try** block let's test a block of code for errors.\n",
        "  The **except** block let's handle the error.\n"
      ],
      "metadata": {
        "id": "G0JSHKzqAcZf"
      }
    },
    {
      "cell_type": "markdown",
      "source": [],
      "metadata": {
        "id": "U2-FekXLFZwN"
      }
    }
  ]
}